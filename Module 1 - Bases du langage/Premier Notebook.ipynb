{
 "cells": [
  {
   "cell_type": "markdown",
   "id": "6f9b2831",
   "metadata": {},
   "source": [
    "# Mon premier Notebook\n",
    "\n",
    "Ce notebook est la trace laissé par la première partie de la formation, qui constait à comprendre étape par étape le script **script.py**"
   ]
  },
  {
   "cell_type": "code",
   "execution_count": 104,
   "id": "833e6dbb",
   "metadata": {
    "scrolled": false
   },
   "outputs": [
    {
     "name": "stdout",
     "output_type": "stream",
     "text": [
      "E. Meriglier, C. Rivoisy, Mojgan Hessamfar, N. Bernard, I. Aureau, et al.. Safety of hydroxychloroquine and darunavir or lopinavir in COVID-19 infection. Journal of Antimicrobial Chemotherapy, Oxford University Press (OUP), 2021, 76 (2), pp.482-486. &#x27E8;10.1093/jac/dkaa441&#x27E9;. &#x27E8;hal-03165515&#x27E9;\n",
      "Thibault Fiolet, Anthony Guihur, Mathieu Edouard Rebeaud, Matthieu Mulot, Nathan Peiffer-Smadja, et al.. Effect of hydroxychloroquine with or without azithromycin on the mortality of coronavirus disease 2019 (COVID-19) patients: a systematic review and meta-analysis. Clinical Microbiology and Infection, Elsevier for the European Society of Clinical Microbiology and Infectious Diseases, 2021, 27 (1), pp.19-27. &#x27E8;10.1016/j.cmi.2020.08.022&#x27E9;. &#x27E8;hal-03127508&#x27E9;\n",
      "M. Cour, C. Amaz, J. Bohe, T. Rimmele, M. Ovize, et al.. Day-90 survival in critically-ill patients with COVID-19 and hydroxychloroquine: a propensity analysis. Annals of translational medicine, AME Publishing Company, 2021, 9 (7), pp.524. &#x27E8;10.21037/atm-20-7811&#x27E9;. &#x27E8;inserm-03337966&#x27E9;\n",
      "Proportion d'articles contenant le terme dans le titre : 50.0 %\n"
     ]
    }
   ],
   "source": [
    "# Déclarations de variables\n",
    "nombre_articles = 0 # création d'une variable entier\n",
    "motcle = \"COVID\" # création d'une variable de type chaîne de caractères\n",
    "titres = [\"E. Meriglier, C. Rivoisy, Mojgan Hessamfar, N. Bernard, I. Aureau, et al.. Safety of hydroxychloroquine and darunavir or lopinavir in COVID-19 infection. Journal of Antimicrobial Chemotherapy, Oxford University Press (OUP), 2021, 76 (2), pp.482-486. &#x27E8;10.1093/jac/dkaa441&#x27E9;. &#x27E8;hal-03165515&#x27E9;\",\n",
    "\"Thibault Fiolet, Anthony Guihur, Mathieu Edouard Rebeaud, Matthieu Mulot, Nathan Peiffer-Smadja, et al.. Effect of hydroxychloroquine with or without azithromycin on the mortality of coronavirus disease 2019 (COVID-19) patients: a systematic review and meta-analysis. Clinical Microbiology and Infection, Elsevier for the European Society of Clinical Microbiology and Infectious Diseases, 2021, 27 (1), pp.19-27. &#x27E8;10.1016/j.cmi.2020.08.022&#x27E9;. &#x27E8;hal-03127508&#x27E9;\",\n",
    "\"Federico Perche, Y. Yi, L. Hespel, P Mi, A Dirisala, et al.. Hydroxychloroquine-conjugated gold nanoparticles for improved siRNA activity. Biomaterials, Elsevier, 2016, 90, pp.62-71. &#x27E8;10.1016/j.biomaterials.2016.02.027&#x27E9;. &#x27E8;hal-02130728&#x27E9;\",\n",
    "\"Maryse Lepoittevin. Intérêt comparé de l’imagerie et de l’électrorétinographie multifocale dans le suivi des patients traités par Chloroquine ou Hydroxychloroquine. Médecine humaine et pathologie. 2015. &#x27E8;dumas-01243546&#x27E9;\",\n",
    "\"M. Cour, C. Amaz, J. Bohe, T. Rimmele, M. Ovize, et al.. Day-90 survival in critically-ill patients with COVID-19 and hydroxychloroquine: a propensity analysis. Annals of translational medicine, AME Publishing Company, 2021, 9 (7), pp.524. &#x27E8;10.21037/atm-20-7811&#x27E9;. &#x27E8;inserm-03337966&#x27E9;\",\n",
    "\"Guillaume Binson, Nicolas Venisse, Alexis Sauvaget, Astrid Bacle, Pauline Lazaro, et al.. Preparation and physicochemical stability of 50 mg/mL hydroxychloroquine oral suspension in SyrSpend(Ⓡ) SF PH4 (dry). International Journal of Antimicrobial Agents, Elsevier, 2020, 56 (6), pp.106201. &#x27E8;10.1016/j.ijantimicag.2020.106201&#x27E9;. &#x27E8;hal-03003546&#x27E9;\"]\n",
    "\n",
    "nombre_total_articles = len(titres) # nombre de titres dans mes données\n",
    "\n",
    "# On teste si la liste n'est pas vide\n",
    "if nombre_total_articles > 0:\n",
    "    \n",
    "    # On fait une boucle sur l'ensemble de la liste des titres\n",
    "    for i in titres:\n",
    "        \n",
    "        # On teste si le mot clé recherché est présent dans le titre\n",
    "        if motcle in i:\n",
    "            \n",
    "            # On affiche le titre\n",
    "            print(i)\n",
    "            \n",
    "            # On augemnte de 1 le compteur\n",
    "            nombre_articles+=1\n",
    "            \n",
    "# Si la liste est vide\n",
    "else:\n",
    "    print(\"La liste est vide\")\n",
    "    \n",
    "# Calcul d'un pourcentage\n",
    "proportion = 100*nombre_articles/nombre_total_articles\n",
    "\n",
    "# Affichage du résultat\n",
    "print(\"Proportion d'articles contenant le terme dans le titre : {} %\".format(round(proportion,1)))\n",
    "\n",
    "# Ecriture dans un fichier\n",
    "with open(\"fichierdesortie.txt\",\"w\") as f:\n",
    "    f.write(\"Proportion d'articles contenant le terme dans le titre : {} %\".format(round(proportion,1)))\n",
    "    f.write(\"\\n\")\n",
    "    f.write(\"Proportion d'articles contenant le terme dans le titre : {} %\".format(round(proportion,1)))\n",
    "    \n"
   ]
  },
  {
   "cell_type": "markdown",
   "id": "c9d5f17c",
   "metadata": {},
   "source": [
    "## Première ligne : créer une variable"
   ]
  },
  {
   "cell_type": "code",
   "execution_count": 17,
   "id": "d9c97dfc",
   "metadata": {},
   "outputs": [],
   "source": [
    "nombre_articles = 0"
   ]
  },
  {
   "cell_type": "markdown",
   "id": "c21cd176",
   "metadata": {},
   "source": [
    "Opération de création de variable et d'allocation de valeur"
   ]
  },
  {
   "cell_type": "code",
   "execution_count": 40,
   "id": "4363e484",
   "metadata": {},
   "outputs": [
    {
     "ename": "TypeError",
     "evalue": "can only concatenate str (not \"int\") to str",
     "output_type": "error",
     "traceback": [
      "\u001b[0;31m---------------------------------------------------------------------------\u001b[0m",
      "\u001b[0;31mTypeError\u001b[0m                                 Traceback (most recent call last)",
      "\u001b[0;32m<ipython-input-40-171274f21643>\u001b[0m in \u001b[0;36m<module>\u001b[0;34m\u001b[0m\n\u001b[0;32m----> 1\u001b[0;31m \u001b[0mnombre_articles\u001b[0m \u001b[0;34m+\u001b[0m \u001b[0;36m10\u001b[0m\u001b[0;34m\u001b[0m\u001b[0;34m\u001b[0m\u001b[0m\n\u001b[0m",
      "\u001b[0;31mTypeError\u001b[0m: can only concatenate str (not \"int\") to str"
     ]
    }
   ],
   "source": [
    "nombre_articles + 10"
   ]
  },
  {
   "cell_type": "markdown",
   "id": "e0ffdeda",
   "metadata": {},
   "source": [
    "## Toute variable est typée"
   ]
  },
  {
   "cell_type": "code",
   "execution_count": 24,
   "id": "d6167eb9",
   "metadata": {},
   "outputs": [
    {
     "data": {
      "text/plain": [
       "int"
      ]
     },
     "execution_count": 24,
     "metadata": {},
     "output_type": "execute_result"
    }
   ],
   "source": [
    "type(nombre_articles)"
   ]
  },
  {
   "cell_type": "code",
   "execution_count": 27,
   "id": "94ac26a4",
   "metadata": {},
   "outputs": [],
   "source": [
    "nombre_article       =   0.0"
   ]
  },
  {
   "cell_type": "code",
   "execution_count": 28,
   "id": "93d68467",
   "metadata": {},
   "outputs": [
    {
     "data": {
      "text/plain": [
       "float"
      ]
     },
     "execution_count": 28,
     "metadata": {},
     "output_type": "execute_result"
    }
   ],
   "source": [
    "type(nombre_article)"
   ]
  },
  {
   "cell_type": "code",
   "execution_count": 38,
   "id": "89f60044",
   "metadata": {},
   "outputs": [],
   "source": [
    "nombre_articles = \"0 \""
   ]
  },
  {
   "cell_type": "code",
   "execution_count": 39,
   "id": "e231d95a",
   "metadata": {},
   "outputs": [
    {
     "data": {
      "text/plain": [
       "str"
      ]
     },
     "execution_count": 39,
     "metadata": {},
     "output_type": "execute_result"
    }
   ],
   "source": [
    "type(nombre_articles)"
   ]
  },
  {
   "cell_type": "code",
   "execution_count": 41,
   "id": "c145ba23",
   "metadata": {},
   "outputs": [
    {
     "data": {
      "text/plain": [
       "10.1"
      ]
     },
     "execution_count": 41,
     "metadata": {},
     "output_type": "execute_result"
    }
   ],
   "source": [
    "0.10 + 10"
   ]
  },
  {
   "cell_type": "markdown",
   "id": "807e84fb",
   "metadata": {},
   "source": [
    "## Création d'une chaine de caractère"
   ]
  },
  {
   "cell_type": "code",
   "execution_count": 45,
   "id": "ad67472b",
   "metadata": {},
   "outputs": [],
   "source": [
    "motcle = \"COVID\"\n",
    "motcle = 'COVID'\n",
    "motcle = \"\"\"COV\n",
    "            ID\"\"\""
   ]
  },
  {
   "cell_type": "code",
   "execution_count": 56,
   "id": "83820598",
   "metadata": {},
   "outputs": [],
   "source": [
    "phrase = \"L'espace\""
   ]
  },
  {
   "cell_type": "code",
   "execution_count": 53,
   "id": "03add422",
   "metadata": {},
   "outputs": [],
   "source": [
    "phrase = 'L\\'espace'"
   ]
  },
  {
   "cell_type": "code",
   "execution_count": 57,
   "id": "22e4ee4e",
   "metadata": {
    "scrolled": true
   },
   "outputs": [
    {
     "data": {
      "text/plain": [
       "\"L'espace et Thomas Pesquet\""
      ]
     },
     "execution_count": 57,
     "metadata": {},
     "output_type": "execute_result"
    }
   ],
   "source": [
    "phrase + \" et Thomas Pesquet\""
   ]
  },
  {
   "cell_type": "code",
   "execution_count": 60,
   "id": "510656fa",
   "metadata": {},
   "outputs": [],
   "source": [
    "motcle = \"COVID\""
   ]
  },
  {
   "cell_type": "code",
   "execution_count": 61,
   "id": "2930f772",
   "metadata": {},
   "outputs": [
    {
     "data": {
      "text/plain": [
       "'covid'"
      ]
     },
     "execution_count": 61,
     "metadata": {},
     "output_type": "execute_result"
    }
   ],
   "source": [
    "motcle.lower()"
   ]
  },
  {
   "cell_type": "code",
   "execution_count": 62,
   "id": "6c3693c1",
   "metadata": {},
   "outputs": [
    {
     "data": {
      "text/plain": [
       "['CO', 'ID']"
      ]
     },
     "execution_count": 62,
     "metadata": {},
     "output_type": "execute_result"
    }
   ],
   "source": [
    "motcle.split(\"V\")"
   ]
  },
  {
   "cell_type": "markdown",
   "id": "3e54f403",
   "metadata": {},
   "source": [
    "Retourne une liste"
   ]
  },
  {
   "cell_type": "markdown",
   "id": "94d9bbf5",
   "metadata": {},
   "source": [
    "## Les variables ensembles"
   ]
  },
  {
   "cell_type": "code",
   "execution_count": 63,
   "id": "090fe09a",
   "metadata": {},
   "outputs": [],
   "source": [
    "titres = [\"E. Meriglier, C. Rivoisy, Mojgan Hessamfar, N. Bernard, I. Aureau, et al.. Safety of hydroxychloroquine and darunavir or lopinavir in COVID-19 infection. Journal of Antimicrobial Chemotherapy, Oxford University Press (OUP), 2021, 76 (2), pp.482-486. &#x27E8;10.1093/jac/dkaa441&#x27E9;. &#x27E8;hal-03165515&#x27E9;\",\n",
    "\"Thibault Fiolet, Anthony Guihur, Mathieu Edouard Rebeaud, Matthieu Mulot, Nathan Peiffer-Smadja, et al.. Effect of hydroxychloroquine with or without azithromycin on the mortality of coronavirus disease 2019 (COVID-19) patients: a systematic review and meta-analysis. Clinical Microbiology and Infection, Elsevier for the European Society of Clinical Microbiology and Infectious Diseases, 2021, 27 (1), pp.19-27. &#x27E8;10.1016/j.cmi.2020.08.022&#x27E9;. &#x27E8;hal-03127508&#x27E9;\",\n",
    "\"Federico Perche, Y. Yi, L. Hespel, P Mi, A Dirisala, et al.. Hydroxychloroquine-conjugated gold nanoparticles for improved siRNA activity. Biomaterials, Elsevier, 2016, 90, pp.62-71. &#x27E8;10.1016/j.biomaterials.2016.02.027&#x27E9;. &#x27E8;hal-02130728&#x27E9;\",\n",
    "\"Maryse Lepoittevin. Intérêt comparé de l’imagerie et de l’électrorétinographie multifocale dans le suivi des patients traités par Chloroquine ou Hydroxychloroquine. Médecine humaine et pathologie. 2015. &#x27E8;dumas-01243546&#x27E9;\",\n",
    "\"M. Cour, C. Amaz, J. Bohe, T. Rimmele, M. Ovize, et al.. Day-90 survival in critically-ill patients with COVID-19 and hydroxychloroquine: a propensity analysis. Annals of translational medicine, AME Publishing Company, 2021, 9 (7), pp.524. &#x27E8;10.21037/atm-20-7811&#x27E9;. &#x27E8;inserm-03337966&#x27E9;\",\n",
    "\"Guillaume Binson, Nicolas Venisse, Alexis Sauvaget, Astrid Bacle, Pauline Lazaro, et al.. Preparation and physicochemical stability of 50 mg/mL hydroxychloroquine oral suspension in SyrSpend(Ⓡ) SF PH4 (dry). International Journal of Antimicrobial Agents, Elsevier, 2020, 56 (6), pp.106201. &#x27E8;10.1016/j.ijantimicag.2020.106201&#x27E9;. &#x27E8;hal-03003546&#x27E9;\"]"
   ]
  },
  {
   "cell_type": "code",
   "execution_count": 64,
   "id": "9331a861",
   "metadata": {},
   "outputs": [
    {
     "data": {
      "text/plain": [
       "['E. Meriglier, C. Rivoisy, Mojgan Hessamfar, N. Bernard, I. Aureau, et al.. Safety of hydroxychloroquine and darunavir or lopinavir in COVID-19 infection. Journal of Antimicrobial Chemotherapy, Oxford University Press (OUP), 2021, 76 (2), pp.482-486. &#x27E8;10.1093/jac/dkaa441&#x27E9;. &#x27E8;hal-03165515&#x27E9;',\n",
       " 'Thibault Fiolet, Anthony Guihur, Mathieu Edouard Rebeaud, Matthieu Mulot, Nathan Peiffer-Smadja, et al.. Effect of hydroxychloroquine with or without azithromycin on the mortality of coronavirus disease 2019 (COVID-19) patients: a systematic review and meta-analysis. Clinical Microbiology and Infection, Elsevier for the European Society of Clinical Microbiology and Infectious Diseases, 2021, 27 (1), pp.19-27. &#x27E8;10.1016/j.cmi.2020.08.022&#x27E9;. &#x27E8;hal-03127508&#x27E9;',\n",
       " 'Federico Perche, Y. Yi, L. Hespel, P Mi, A Dirisala, et al.. Hydroxychloroquine-conjugated gold nanoparticles for improved siRNA activity. Biomaterials, Elsevier, 2016, 90, pp.62-71. &#x27E8;10.1016/j.biomaterials.2016.02.027&#x27E9;. &#x27E8;hal-02130728&#x27E9;',\n",
       " 'Maryse Lepoittevin. Intérêt comparé de l’imagerie et de l’électrorétinographie multifocale dans le suivi des patients traités par Chloroquine ou Hydroxychloroquine. Médecine humaine et pathologie. 2015. &#x27E8;dumas-01243546&#x27E9;',\n",
       " 'M. Cour, C. Amaz, J. Bohe, T. Rimmele, M. Ovize, et al.. Day-90 survival in critically-ill patients with COVID-19 and hydroxychloroquine: a propensity analysis. Annals of translational medicine, AME Publishing Company, 2021, 9 (7), pp.524. &#x27E8;10.21037/atm-20-7811&#x27E9;. &#x27E8;inserm-03337966&#x27E9;',\n",
       " 'Guillaume Binson, Nicolas Venisse, Alexis Sauvaget, Astrid Bacle, Pauline Lazaro, et al.. Preparation and physicochemical stability of 50 mg/mL hydroxychloroquine oral suspension in SyrSpend(Ⓡ) SF PH4 (dry). International Journal of Antimicrobial Agents, Elsevier, 2020, 56 (6), pp.106201. &#x27E8;10.1016/j.ijantimicag.2020.106201&#x27E9;. &#x27E8;hal-03003546&#x27E9;']"
      ]
     },
     "execution_count": 64,
     "metadata": {},
     "output_type": "execute_result"
    }
   ],
   "source": [
    "titres"
   ]
  },
  {
   "cell_type": "code",
   "execution_count": 65,
   "id": "237454e1",
   "metadata": {},
   "outputs": [
    {
     "data": {
      "text/plain": [
       "list"
      ]
     },
     "execution_count": 65,
     "metadata": {},
     "output_type": "execute_result"
    }
   ],
   "source": [
    "type(titres)"
   ]
  },
  {
   "cell_type": "markdown",
   "id": "0adf0ad1",
   "metadata": {},
   "source": [
    "prendre un élément"
   ]
  },
  {
   "cell_type": "code",
   "execution_count": 66,
   "id": "c1322f3e",
   "metadata": {},
   "outputs": [
    {
     "data": {
      "text/plain": [
       "'E. Meriglier, C. Rivoisy, Mojgan Hessamfar, N. Bernard, I. Aureau, et al.. Safety of hydroxychloroquine and darunavir or lopinavir in COVID-19 infection. Journal of Antimicrobial Chemotherapy, Oxford University Press (OUP), 2021, 76 (2), pp.482-486. &#x27E8;10.1093/jac/dkaa441&#x27E9;. &#x27E8;hal-03165515&#x27E9;'"
      ]
     },
     "execution_count": 66,
     "metadata": {},
     "output_type": "execute_result"
    }
   ],
   "source": [
    "titres[0]"
   ]
  },
  {
   "cell_type": "code",
   "execution_count": 67,
   "id": "7afa5a51",
   "metadata": {},
   "outputs": [],
   "source": [
    "une_nouvelle_liste = [3223,23.3,\"trois\"]"
   ]
  },
  {
   "cell_type": "code",
   "execution_count": 69,
   "id": "765d5f2e",
   "metadata": {},
   "outputs": [],
   "source": [
    "une_nouvelle_liste.append(\"quatre\")"
   ]
  },
  {
   "cell_type": "code",
   "execution_count": 71,
   "id": "c5376e59",
   "metadata": {},
   "outputs": [],
   "source": [
    "une_nouvelle_liste.append(titres[4])"
   ]
  },
  {
   "cell_type": "code",
   "execution_count": 72,
   "id": "02cc289c",
   "metadata": {},
   "outputs": [
    {
     "data": {
      "text/plain": [
       "[3223,\n",
       " 23.3,\n",
       " 'trois',\n",
       " 'quatre',\n",
       " 'M. Cour, C. Amaz, J. Bohe, T. Rimmele, M. Ovize, et al.. Day-90 survival in critically-ill patients with COVID-19 and hydroxychloroquine: a propensity analysis. Annals of translational medicine, AME Publishing Company, 2021, 9 (7), pp.524. &#x27E8;10.21037/atm-20-7811&#x27E9;. &#x27E8;inserm-03337966&#x27E9;']"
      ]
     },
     "execution_count": 72,
     "metadata": {},
     "output_type": "execute_result"
    }
   ],
   "source": [
    "une_nouvelle_liste"
   ]
  },
  {
   "cell_type": "code",
   "execution_count": 73,
   "id": "867718e6",
   "metadata": {},
   "outputs": [
    {
     "data": {
      "text/plain": [
       "[3223,\n",
       " 23.3,\n",
       " 'trois',\n",
       " 'quatre',\n",
       " 'M. Cour, C. Amaz, J. Bohe, T. Rimmele, M. Ovize, et al.. Day-90 survival in critically-ill patients with COVID-19 and hydroxychloroquine: a propensity analysis. Annals of translational medicine, AME Publishing Company, 2021, 9 (7), pp.524. &#x27E8;10.21037/atm-20-7811&#x27E9;. &#x27E8;inserm-03337966&#x27E9;',\n",
       " 'E. Meriglier, C. Rivoisy, Mojgan Hessamfar, N. Bernard, I. Aureau, et al.. Safety of hydroxychloroquine and darunavir or lopinavir in COVID-19 infection. Journal of Antimicrobial Chemotherapy, Oxford University Press (OUP), 2021, 76 (2), pp.482-486. &#x27E8;10.1093/jac/dkaa441&#x27E9;. &#x27E8;hal-03165515&#x27E9;',\n",
       " 'Thibault Fiolet, Anthony Guihur, Mathieu Edouard Rebeaud, Matthieu Mulot, Nathan Peiffer-Smadja, et al.. Effect of hydroxychloroquine with or without azithromycin on the mortality of coronavirus disease 2019 (COVID-19) patients: a systematic review and meta-analysis. Clinical Microbiology and Infection, Elsevier for the European Society of Clinical Microbiology and Infectious Diseases, 2021, 27 (1), pp.19-27. &#x27E8;10.1016/j.cmi.2020.08.022&#x27E9;. &#x27E8;hal-03127508&#x27E9;',\n",
       " 'Federico Perche, Y. Yi, L. Hespel, P Mi, A Dirisala, et al.. Hydroxychloroquine-conjugated gold nanoparticles for improved siRNA activity. Biomaterials, Elsevier, 2016, 90, pp.62-71. &#x27E8;10.1016/j.biomaterials.2016.02.027&#x27E9;. &#x27E8;hal-02130728&#x27E9;',\n",
       " 'Maryse Lepoittevin. Intérêt comparé de l’imagerie et de l’électrorétinographie multifocale dans le suivi des patients traités par Chloroquine ou Hydroxychloroquine. Médecine humaine et pathologie. 2015. &#x27E8;dumas-01243546&#x27E9;',\n",
       " 'M. Cour, C. Amaz, J. Bohe, T. Rimmele, M. Ovize, et al.. Day-90 survival in critically-ill patients with COVID-19 and hydroxychloroquine: a propensity analysis. Annals of translational medicine, AME Publishing Company, 2021, 9 (7), pp.524. &#x27E8;10.21037/atm-20-7811&#x27E9;. &#x27E8;inserm-03337966&#x27E9;',\n",
       " 'Guillaume Binson, Nicolas Venisse, Alexis Sauvaget, Astrid Bacle, Pauline Lazaro, et al.. Preparation and physicochemical stability of 50 mg/mL hydroxychloroquine oral suspension in SyrSpend(Ⓡ) SF PH4 (dry). International Journal of Antimicrobial Agents, Elsevier, 2020, 56 (6), pp.106201. &#x27E8;10.1016/j.ijantimicag.2020.106201&#x27E9;. &#x27E8;hal-03003546&#x27E9;']"
      ]
     },
     "execution_count": 73,
     "metadata": {},
     "output_type": "execute_result"
    }
   ],
   "source": [
    "une_nouvelle_liste + titres"
   ]
  },
  {
   "cell_type": "markdown",
   "id": "ae79993f",
   "metadata": {},
   "source": [
    "### Autre type d'ensemble : les dictionnaires"
   ]
  },
  {
   "cell_type": "code",
   "execution_count": 74,
   "id": "a5474b8f",
   "metadata": {},
   "outputs": [],
   "source": [
    "mon_dictionnaire = {43:345,\"chat\":\"gris\"}"
   ]
  },
  {
   "cell_type": "code",
   "execution_count": 75,
   "id": "0a4f3878",
   "metadata": {},
   "outputs": [
    {
     "data": {
      "text/plain": [
       "dict"
      ]
     },
     "execution_count": 75,
     "metadata": {},
     "output_type": "execute_result"
    }
   ],
   "source": [
    "type(mon_dictionnaire)"
   ]
  },
  {
   "cell_type": "code",
   "execution_count": 76,
   "id": "87ce3eb9",
   "metadata": {},
   "outputs": [
    {
     "data": {
      "text/plain": [
       "{43: 345, 'chat': 'gris'}"
      ]
     },
     "execution_count": 76,
     "metadata": {},
     "output_type": "execute_result"
    }
   ],
   "source": [
    "mon_dictionnaire"
   ]
  },
  {
   "cell_type": "code",
   "execution_count": 77,
   "id": "4bfe5c51",
   "metadata": {},
   "outputs": [
    {
     "data": {
      "text/plain": [
       "'gris'"
      ]
     },
     "execution_count": 77,
     "metadata": {},
     "output_type": "execute_result"
    }
   ],
   "source": [
    "mon_dictionnaire[\"chat\"]"
   ]
  },
  {
   "cell_type": "markdown",
   "id": "86b59fad",
   "metadata": {},
   "source": [
    "## Valeur de vérité"
   ]
  },
  {
   "cell_type": "code",
   "execution_count": 80,
   "id": "87944579",
   "metadata": {},
   "outputs": [],
   "source": [
    "condition = False"
   ]
  },
  {
   "cell_type": "code",
   "execution_count": 79,
   "id": "29bb963a",
   "metadata": {},
   "outputs": [
    {
     "data": {
      "text/plain": [
       "bool"
      ]
     },
     "execution_count": 79,
     "metadata": {},
     "output_type": "execute_result"
    }
   ],
   "source": [
    "type(condition)"
   ]
  },
  {
   "cell_type": "markdown",
   "id": "b6502b87",
   "metadata": {},
   "source": [
    "## Chercher l'aide"
   ]
  },
  {
   "cell_type": "code",
   "execution_count": 81,
   "id": "6e203388",
   "metadata": {},
   "outputs": [],
   "source": [
    "?len"
   ]
  },
  {
   "cell_type": "code",
   "execution_count": 85,
   "id": "2f04c372",
   "metadata": {},
   "outputs": [
    {
     "data": {
      "text/plain": [
       "6"
      ]
     },
     "execution_count": 85,
     "metadata": {},
     "output_type": "execute_result"
    }
   ],
   "source": [
    "len(titres)"
   ]
  },
  {
   "cell_type": "markdown",
   "id": "175078ff",
   "metadata": {},
   "source": [
    "## Conditions"
   ]
  },
  {
   "cell_type": "markdown",
   "id": "20d3faf6",
   "metadata": {},
   "source": [
    "````python\n",
    "\n",
    "if [CONDITION VERIFIE]:\n",
    "    INSTRUCTIONS A FAIRE\n",
    "else:\n",
    "    SINON FAIRE ...\n",
    "\n",
    "````"
   ]
  },
  {
   "cell_type": "code",
   "execution_count": 86,
   "id": "ec73e401",
   "metadata": {},
   "outputs": [
    {
     "data": {
      "text/plain": [
       "True"
      ]
     },
     "execution_count": 86,
     "metadata": {},
     "output_type": "execute_result"
    }
   ],
   "source": [
    "nombre_total_articles > 0"
   ]
  },
  {
   "cell_type": "markdown",
   "id": "88c9dc26",
   "metadata": {},
   "source": [
    "### Comprendre la boucle"
   ]
  },
  {
   "cell_type": "code",
   "execution_count": 88,
   "id": "bd70e9bc",
   "metadata": {},
   "outputs": [
    {
     "name": "stdout",
     "output_type": "stream",
     "text": [
      "E. Meriglier, C. Rivoisy, Mojgan Hessamfar, N. Bernard, I. Aureau, et al.. Safety of hydroxychloroquine and darunavir or lopinavir in COVID-19 infection. Journal of Antimicrobial Chemotherapy, Oxford University Press (OUP), 2021, 76 (2), pp.482-486. &#x27E8;10.1093/jac/dkaa441&#x27E9;. &#x27E8;hal-03165515&#x27E9;\n",
      "Thibault Fiolet, Anthony Guihur, Mathieu Edouard Rebeaud, Matthieu Mulot, Nathan Peiffer-Smadja, et al.. Effect of hydroxychloroquine with or without azithromycin on the mortality of coronavirus disease 2019 (COVID-19) patients: a systematic review and meta-analysis. Clinical Microbiology and Infection, Elsevier for the European Society of Clinical Microbiology and Infectious Diseases, 2021, 27 (1), pp.19-27. &#x27E8;10.1016/j.cmi.2020.08.022&#x27E9;. &#x27E8;hal-03127508&#x27E9;\n",
      "M. Cour, C. Amaz, J. Bohe, T. Rimmele, M. Ovize, et al.. Day-90 survival in critically-ill patients with COVID-19 and hydroxychloroquine: a propensity analysis. Annals of translational medicine, AME Publishing Company, 2021, 9 (7), pp.524. &#x27E8;10.21037/atm-20-7811&#x27E9;. &#x27E8;inserm-03337966&#x27E9;\n"
     ]
    }
   ],
   "source": [
    "    for un_element_de_mon_ensemble in titres:\n",
    "        if motcle in un_element_de_mon_ensemble:\n",
    "            print(un_element_de_mon_ensemble)\n",
    "            nombre_articles+=1"
   ]
  },
  {
   "cell_type": "markdown",
   "id": "8f0eef27",
   "metadata": {},
   "source": [
    "Décomposer les éléments"
   ]
  },
  {
   "cell_type": "code",
   "execution_count": 89,
   "id": "a6a05aba",
   "metadata": {},
   "outputs": [],
   "source": [
    "        if motcle in un_element_de_mon_ensemble:\n",
    "            print(un_element_de_mon_ensemble)\n",
    "            nombre_articles+=1"
   ]
  },
  {
   "cell_type": "code",
   "execution_count": 90,
   "id": "5f712617",
   "metadata": {},
   "outputs": [
    {
     "data": {
      "text/plain": [
       "False"
      ]
     },
     "execution_count": 90,
     "metadata": {},
     "output_type": "execute_result"
    }
   ],
   "source": [
    "motcle in un_element_de_mon_ensemble"
   ]
  },
  {
   "cell_type": "code",
   "execution_count": 91,
   "id": "f03a0906",
   "metadata": {},
   "outputs": [
    {
     "data": {
      "text/plain": [
       "'Guillaume Binson, Nicolas Venisse, Alexis Sauvaget, Astrid Bacle, Pauline Lazaro, et al.. Preparation and physicochemical stability of 50 mg/mL hydroxychloroquine oral suspension in SyrSpend(Ⓡ) SF PH4 (dry). International Journal of Antimicrobial Agents, Elsevier, 2020, 56 (6), pp.106201. &#x27E8;10.1016/j.ijantimicag.2020.106201&#x27E9;. &#x27E8;hal-03003546&#x27E9;'"
      ]
     },
     "execution_count": 91,
     "metadata": {},
     "output_type": "execute_result"
    }
   ],
   "source": [
    "un_element_de_mon_ensemble"
   ]
  },
  {
   "cell_type": "markdown",
   "id": "67673f2e",
   "metadata": {},
   "source": [
    "## Formattage de chaine"
   ]
  },
  {
   "cell_type": "code",
   "execution_count": 92,
   "id": "1df49a7d",
   "metadata": {},
   "outputs": [
    {
     "name": "stdout",
     "output_type": "stream",
     "text": [
      "Proportion d'articles contenant le terme dans le titre : 50.0 %\n"
     ]
    }
   ],
   "source": [
    "print(\"Proportion d'articles contenant le terme dans le titre : {} %\".format(round(proportion,1)))"
   ]
  },
  {
   "cell_type": "code",
   "execution_count": 94,
   "id": "1b79316d",
   "metadata": {},
   "outputs": [
    {
     "data": {
      "text/plain": [
       "\"Proportion d'articles contenant le terme dans le titre : 50.0 %\""
      ]
     },
     "execution_count": 94,
     "metadata": {},
     "output_type": "execute_result"
    }
   ],
   "source": [
    "\"Proportion d'articles contenant le terme dans le titre : {} %\".format(round(proportion,1))"
   ]
  },
  {
   "cell_type": "code",
   "execution_count": 96,
   "id": "415f9fce",
   "metadata": {},
   "outputs": [
    {
     "name": "stdout",
     "output_type": "stream",
     "text": [
      "Proportion d'articles contenant le terme dans le titre : 50.0 %\n"
     ]
    }
   ],
   "source": [
    "proportion_arrondie = round(proportion,1)\n",
    "chaine_de_sortie = \"Proportion d'articles contenant le terme dans le titre : {} %\".format(proportion_arrondie)\n",
    "print(chaine_de_sortie)"
   ]
  },
  {
   "cell_type": "markdown",
   "id": "662c0ce5",
   "metadata": {},
   "source": [
    "## Définition d'une fonction"
   ]
  },
  {
   "cell_type": "code",
   "execution_count": 97,
   "id": "aa6a70ae",
   "metadata": {},
   "outputs": [],
   "source": [
    "# Définition d'une fonction qui prend deux arguments\n",
    "def presence_mot(motcle,chaine):\n",
    "    if motcle in chaine:\n",
    "        return 1\n",
    "    else:\n",
    "        return 0"
   ]
  },
  {
   "cell_type": "code",
   "execution_count": 101,
   "id": "5c3b4087",
   "metadata": {},
   "outputs": [
    {
     "data": {
      "text/plain": [
       "1"
      ]
     },
     "execution_count": 101,
     "metadata": {},
     "output_type": "execute_result"
    }
   ],
   "source": [
    "presence_mot(\"présent\",\"Ce mot est présent dans la phrase\")"
   ]
  },
  {
   "cell_type": "markdown",
   "id": "15d2a5e4",
   "metadata": {},
   "source": [
    "## Opération d'entrées et sorties"
   ]
  },
  {
   "cell_type": "markdown",
   "id": "66b7b1fc",
   "metadata": {},
   "source": [
    "Ecriture et lecture de données. Pour cela il faut ouvrir un fichier avec open, qui crée un lien vers le fichier, que l'on peut ensuite utiliser pour lire (si le fichier est ouvert en mode lecture, \"r\"), ou écrire (si le fichier est ouvert en mode écriture \"w\")"
   ]
  },
  {
   "cell_type": "code",
   "execution_count": null,
   "id": "1ebd0a6c",
   "metadata": {},
   "outputs": [],
   "source": [
    "# Ecriture dans un fichier\n",
    "with open(\"fichierdesortie.txt\",\"w\") as f:\n",
    "    f.write(\"Proportion d'articles contenant le terme dans le titre : {} %\".format(round(proportion,1)))\n",
    "    f.write(\"\\n\")\n",
    "    f.write(\"Proportion d'articles contenant le terme dans le titre : {} %\".format(round(proportion,1)))"
   ]
  }
 ],
 "metadata": {
  "kernelspec": {
   "display_name": "Python 3",
   "language": "python",
   "name": "python3"
  },
  "language_info": {
   "codemirror_mode": {
    "name": "ipython",
    "version": 3
   },
   "file_extension": ".py",
   "mimetype": "text/x-python",
   "name": "python",
   "nbconvert_exporter": "python",
   "pygments_lexer": "ipython3",
   "version": "3.7.11"
  }
 },
 "nbformat": 4,
 "nbformat_minor": 5
}
