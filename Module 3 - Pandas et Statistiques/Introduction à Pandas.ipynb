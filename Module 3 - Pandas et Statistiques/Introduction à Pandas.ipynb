{
 "cells": [
  {
   "cell_type": "markdown",
   "metadata": {},
   "source": [
    "# Introduction à Pandas"
   ]
  },
  {
   "cell_type": "markdown",
   "metadata": {},
   "source": [
    "Installer la bibliothèque"
   ]
  },
  {
   "cell_type": "code",
   "execution_count": 1,
   "metadata": {},
   "outputs": [
    {
     "name": "stdout",
     "output_type": "stream",
     "text": [
      "Requirement already satisfied: pandas in /Users/emilien/anaconda3/envs/p37/lib/python3.7/site-packages (1.0.3)\n",
      "Requirement already satisfied: numpy>=1.13.3 in /Users/emilien/anaconda3/envs/p37/lib/python3.7/site-packages (from pandas) (1.19.2)\n",
      "Requirement already satisfied: python-dateutil>=2.6.1 in /Users/emilien/anaconda3/envs/p37/lib/python3.7/site-packages (from pandas) (2.8.1)\n",
      "Requirement already satisfied: pytz>=2017.2 in /Users/emilien/anaconda3/envs/p37/lib/python3.7/site-packages (from pandas) (2019.3)\n",
      "Requirement already satisfied: six>=1.5 in /Users/emilien/anaconda3/envs/p37/lib/python3.7/site-packages (from python-dateutil>=2.6.1->pandas) (1.16.0)\n",
      "Note: you may need to restart the kernel to use updated packages.\n"
     ]
    }
   ],
   "source": [
    "pip install pandas"
   ]
  },
  {
   "cell_type": "markdown",
   "metadata": {},
   "source": [
    "La charger"
   ]
  },
  {
   "cell_type": "code",
   "execution_count": 2,
   "metadata": {},
   "outputs": [],
   "source": [
    "import pandas as pd"
   ]
  },
  {
   "cell_type": "markdown",
   "metadata": {},
   "source": [
    "Le format DataFrame"
   ]
  },
  {
   "cell_type": "code",
   "execution_count": 4,
   "metadata": {},
   "outputs": [
    {
     "data": {
      "text/plain": [
       "['élément un', '2', 3]"
      ]
     },
     "execution_count": 4,
     "metadata": {},
     "output_type": "execute_result"
    }
   ],
   "source": [
    "une_liste = [\"élément un\",\"2\",3]\n",
    "une_liste"
   ]
  },
  {
   "cell_type": "code",
   "execution_count": 26,
   "metadata": {},
   "outputs": [],
   "source": [
    "mon_tableau_pandas = pd.DataFrame({\"Colonne 1\":[1,2,3,4],\n",
    "                                \"Colonne 5\":[\"A\",\"B\",\"C\",\"D\"]})"
   ]
  },
  {
   "cell_type": "code",
   "execution_count": 9,
   "metadata": {},
   "outputs": [
    {
     "data": {
      "text/html": [
       "<div>\n",
       "<style scoped>\n",
       "    .dataframe tbody tr th:only-of-type {\n",
       "        vertical-align: middle;\n",
       "    }\n",
       "\n",
       "    .dataframe tbody tr th {\n",
       "        vertical-align: top;\n",
       "    }\n",
       "\n",
       "    .dataframe thead th {\n",
       "        text-align: right;\n",
       "    }\n",
       "</style>\n",
       "<table border=\"1\" class=\"dataframe\">\n",
       "  <thead>\n",
       "    <tr style=\"text-align: right;\">\n",
       "      <th></th>\n",
       "      <th>Colonne 1</th>\n",
       "      <th>Colonne 5</th>\n",
       "    </tr>\n",
       "  </thead>\n",
       "  <tbody>\n",
       "    <tr>\n",
       "      <th>0</th>\n",
       "      <td>1</td>\n",
       "      <td>A</td>\n",
       "    </tr>\n",
       "    <tr>\n",
       "      <th>1</th>\n",
       "      <td>2</td>\n",
       "      <td>B</td>\n",
       "    </tr>\n",
       "    <tr>\n",
       "      <th>2</th>\n",
       "      <td>3</td>\n",
       "      <td>C</td>\n",
       "    </tr>\n",
       "    <tr>\n",
       "      <th>3</th>\n",
       "      <td>4</td>\n",
       "      <td>D</td>\n",
       "    </tr>\n",
       "  </tbody>\n",
       "</table>\n",
       "</div>"
      ],
      "text/plain": [
       "   Colonne 1 Colonne 5\n",
       "0          1         A\n",
       "1          2         B\n",
       "2          3         C\n",
       "3          4         D"
      ]
     },
     "execution_count": 9,
     "metadata": {},
     "output_type": "execute_result"
    }
   ],
   "source": [
    "mon_tableau_pandas"
   ]
  },
  {
   "cell_type": "code",
   "execution_count": 10,
   "metadata": {},
   "outputs": [
    {
     "data": {
      "text/plain": [
       "pandas.core.frame.DataFrame"
      ]
     },
     "execution_count": 10,
     "metadata": {},
     "output_type": "execute_result"
    }
   ],
   "source": [
    "type(mon_tableau_pandas)"
   ]
  },
  {
   "cell_type": "markdown",
   "metadata": {},
   "source": [
    "Manipuler le tableau"
   ]
  },
  {
   "cell_type": "code",
   "execution_count": 14,
   "metadata": {},
   "outputs": [
    {
     "data": {
      "text/plain": [
       "['Colonne 1', 'Colonne 5']"
      ]
     },
     "execution_count": 14,
     "metadata": {},
     "output_type": "execute_result"
    }
   ],
   "source": [
    "list(mon_tableau_pandas.columns)"
   ]
  },
  {
   "cell_type": "code",
   "execution_count": 13,
   "metadata": {},
   "outputs": [
    {
     "data": {
      "text/plain": [
       "[0, 1, 2, 3]"
      ]
     },
     "execution_count": 13,
     "metadata": {},
     "output_type": "execute_result"
    }
   ],
   "source": [
    "list(mon_tableau_pandas.index)"
   ]
  },
  {
   "cell_type": "code",
   "execution_count": 15,
   "metadata": {},
   "outputs": [
    {
     "data": {
      "text/plain": [
       "0    1\n",
       "1    2\n",
       "2    3\n",
       "3    4\n",
       "Name: Colonne 1, dtype: int64"
      ]
     },
     "execution_count": 15,
     "metadata": {},
     "output_type": "execute_result"
    }
   ],
   "source": [
    "mon_tableau_pandas[\"Colonne 1\"]"
   ]
  },
  {
   "cell_type": "code",
   "execution_count": 16,
   "metadata": {},
   "outputs": [
    {
     "data": {
      "text/plain": [
       "pandas.core.series.Series"
      ]
     },
     "execution_count": 16,
     "metadata": {},
     "output_type": "execute_result"
    }
   ],
   "source": [
    "type(mon_tableau_pandas[\"Colonne 1\"])"
   ]
  },
  {
   "cell_type": "code",
   "execution_count": 17,
   "metadata": {},
   "outputs": [
    {
     "data": {
      "text/plain": [
       "dtype('int64')"
      ]
     },
     "execution_count": 17,
     "metadata": {},
     "output_type": "execute_result"
    }
   ],
   "source": [
    "mon_tableau_pandas[\"Colonne 1\"].dtype"
   ]
  },
  {
   "cell_type": "code",
   "execution_count": 18,
   "metadata": {},
   "outputs": [
    {
     "data": {
      "text/plain": [
       "dtype('O')"
      ]
     },
     "execution_count": 18,
     "metadata": {},
     "output_type": "execute_result"
    }
   ],
   "source": [
    "mon_tableau_pandas[\"Colonne 5\"].dtype"
   ]
  },
  {
   "cell_type": "markdown",
   "metadata": {},
   "source": [
    "Sélectionner un élément du tableau"
   ]
  },
  {
   "cell_type": "code",
   "execution_count": 22,
   "metadata": {},
   "outputs": [
    {
     "data": {
      "text/plain": [
       "2"
      ]
     },
     "execution_count": 22,
     "metadata": {},
     "output_type": "execute_result"
    }
   ],
   "source": [
    "mon_tableau_pandas.loc[1,\"Colonne 1\"]"
   ]
  },
  {
   "cell_type": "code",
   "execution_count": 23,
   "metadata": {},
   "outputs": [
    {
     "data": {
      "text/plain": [
       "Colonne 1    2\n",
       "Colonne 5    B\n",
       "Name: 1, dtype: object"
      ]
     },
     "execution_count": 23,
     "metadata": {},
     "output_type": "execute_result"
    }
   ],
   "source": [
    "mon_tableau_pandas.loc[1]"
   ]
  },
  {
   "cell_type": "markdown",
   "metadata": {},
   "source": [
    "Modifier un élément"
   ]
  },
  {
   "cell_type": "code",
   "execution_count": 27,
   "metadata": {},
   "outputs": [],
   "source": [
    "mon_tableau_pandas.loc[2,\"Colonne 1\"] = \"Modifié\""
   ]
  },
  {
   "cell_type": "code",
   "execution_count": 28,
   "metadata": {},
   "outputs": [
    {
     "data": {
      "text/html": [
       "<div>\n",
       "<style scoped>\n",
       "    .dataframe tbody tr th:only-of-type {\n",
       "        vertical-align: middle;\n",
       "    }\n",
       "\n",
       "    .dataframe tbody tr th {\n",
       "        vertical-align: top;\n",
       "    }\n",
       "\n",
       "    .dataframe thead th {\n",
       "        text-align: right;\n",
       "    }\n",
       "</style>\n",
       "<table border=\"1\" class=\"dataframe\">\n",
       "  <thead>\n",
       "    <tr style=\"text-align: right;\">\n",
       "      <th></th>\n",
       "      <th>Colonne 1</th>\n",
       "      <th>Colonne 5</th>\n",
       "    </tr>\n",
       "  </thead>\n",
       "  <tbody>\n",
       "    <tr>\n",
       "      <th>0</th>\n",
       "      <td>1</td>\n",
       "      <td>A</td>\n",
       "    </tr>\n",
       "    <tr>\n",
       "      <th>1</th>\n",
       "      <td>2</td>\n",
       "      <td>B</td>\n",
       "    </tr>\n",
       "    <tr>\n",
       "      <th>2</th>\n",
       "      <td>Modifié</td>\n",
       "      <td>C</td>\n",
       "    </tr>\n",
       "    <tr>\n",
       "      <th>3</th>\n",
       "      <td>4</td>\n",
       "      <td>D</td>\n",
       "    </tr>\n",
       "  </tbody>\n",
       "</table>\n",
       "</div>"
      ],
      "text/plain": [
       "  Colonne 1 Colonne 5\n",
       "0         1         A\n",
       "1         2         B\n",
       "2   Modifié         C\n",
       "3         4         D"
      ]
     },
     "execution_count": 28,
     "metadata": {},
     "output_type": "execute_result"
    }
   ],
   "source": [
    "mon_tableau_pandas"
   ]
  },
  {
   "cell_type": "code",
   "execution_count": 29,
   "metadata": {},
   "outputs": [],
   "source": [
    "mon_tableau_pandas[(2,\"Colonne 1\")] = \"Modifié\""
   ]
  },
  {
   "cell_type": "code",
   "execution_count": 30,
   "metadata": {},
   "outputs": [
    {
     "data": {
      "text/html": [
       "<div>\n",
       "<style scoped>\n",
       "    .dataframe tbody tr th:only-of-type {\n",
       "        vertical-align: middle;\n",
       "    }\n",
       "\n",
       "    .dataframe tbody tr th {\n",
       "        vertical-align: top;\n",
       "    }\n",
       "\n",
       "    .dataframe thead th {\n",
       "        text-align: right;\n",
       "    }\n",
       "</style>\n",
       "<table border=\"1\" class=\"dataframe\">\n",
       "  <thead>\n",
       "    <tr style=\"text-align: right;\">\n",
       "      <th></th>\n",
       "      <th>Colonne 1</th>\n",
       "      <th>Colonne 5</th>\n",
       "      <th>(2, Colonne 1)</th>\n",
       "    </tr>\n",
       "  </thead>\n",
       "  <tbody>\n",
       "    <tr>\n",
       "      <th>0</th>\n",
       "      <td>1</td>\n",
       "      <td>A</td>\n",
       "      <td>Modifié</td>\n",
       "    </tr>\n",
       "    <tr>\n",
       "      <th>1</th>\n",
       "      <td>2</td>\n",
       "      <td>B</td>\n",
       "      <td>Modifié</td>\n",
       "    </tr>\n",
       "    <tr>\n",
       "      <th>2</th>\n",
       "      <td>Modifié</td>\n",
       "      <td>C</td>\n",
       "      <td>Modifié</td>\n",
       "    </tr>\n",
       "    <tr>\n",
       "      <th>3</th>\n",
       "      <td>4</td>\n",
       "      <td>D</td>\n",
       "      <td>Modifié</td>\n",
       "    </tr>\n",
       "  </tbody>\n",
       "</table>\n",
       "</div>"
      ],
      "text/plain": [
       "  Colonne 1 Colonne 5 (2, Colonne 1)\n",
       "0         1         A        Modifié\n",
       "1         2         B        Modifié\n",
       "2   Modifié         C        Modifié\n",
       "3         4         D        Modifié"
      ]
     },
     "execution_count": 30,
     "metadata": {},
     "output_type": "execute_result"
    }
   ],
   "source": [
    "mon_tableau_pandas"
   ]
  },
  {
   "cell_type": "markdown",
   "metadata": {},
   "source": [
    "Créer une nouvelle colonne"
   ]
  },
  {
   "cell_type": "code",
   "execution_count": 31,
   "metadata": {},
   "outputs": [],
   "source": [
    "mon_tableau_pandas[\"Colonne 2\"] = None"
   ]
  },
  {
   "cell_type": "code",
   "execution_count": 32,
   "metadata": {},
   "outputs": [
    {
     "data": {
      "text/html": [
       "<div>\n",
       "<style scoped>\n",
       "    .dataframe tbody tr th:only-of-type {\n",
       "        vertical-align: middle;\n",
       "    }\n",
       "\n",
       "    .dataframe tbody tr th {\n",
       "        vertical-align: top;\n",
       "    }\n",
       "\n",
       "    .dataframe thead th {\n",
       "        text-align: right;\n",
       "    }\n",
       "</style>\n",
       "<table border=\"1\" class=\"dataframe\">\n",
       "  <thead>\n",
       "    <tr style=\"text-align: right;\">\n",
       "      <th></th>\n",
       "      <th>Colonne 1</th>\n",
       "      <th>Colonne 5</th>\n",
       "      <th>(2, Colonne 1)</th>\n",
       "      <th>Colonne 2</th>\n",
       "    </tr>\n",
       "  </thead>\n",
       "  <tbody>\n",
       "    <tr>\n",
       "      <th>0</th>\n",
       "      <td>1</td>\n",
       "      <td>A</td>\n",
       "      <td>Modifié</td>\n",
       "      <td>None</td>\n",
       "    </tr>\n",
       "    <tr>\n",
       "      <th>1</th>\n",
       "      <td>2</td>\n",
       "      <td>B</td>\n",
       "      <td>Modifié</td>\n",
       "      <td>None</td>\n",
       "    </tr>\n",
       "    <tr>\n",
       "      <th>2</th>\n",
       "      <td>Modifié</td>\n",
       "      <td>C</td>\n",
       "      <td>Modifié</td>\n",
       "      <td>None</td>\n",
       "    </tr>\n",
       "    <tr>\n",
       "      <th>3</th>\n",
       "      <td>4</td>\n",
       "      <td>D</td>\n",
       "      <td>Modifié</td>\n",
       "      <td>None</td>\n",
       "    </tr>\n",
       "  </tbody>\n",
       "</table>\n",
       "</div>"
      ],
      "text/plain": [
       "  Colonne 1 Colonne 5 (2, Colonne 1) Colonne 2\n",
       "0         1         A        Modifié      None\n",
       "1         2         B        Modifié      None\n",
       "2   Modifié         C        Modifié      None\n",
       "3         4         D        Modifié      None"
      ]
     },
     "execution_count": 32,
     "metadata": {},
     "output_type": "execute_result"
    }
   ],
   "source": [
    "mon_tableau_pandas"
   ]
  },
  {
   "cell_type": "markdown",
   "metadata": {},
   "source": [
    "## Charger des données réelles"
   ]
  },
  {
   "cell_type": "markdown",
   "metadata": {},
   "source": [
    "Comprendre les chemins de dossiers\n",
    "\n",
    "`C:/Dossier 1/Sous dossier 1/Sous sous dossier 1/...`"
   ]
  },
  {
   "cell_type": "markdown",
   "metadata": {},
   "source": [
    "Où on est : "
   ]
  },
  {
   "cell_type": "code",
   "execution_count": 33,
   "metadata": {
    "scrolled": false
   },
   "outputs": [
    {
     "name": "stdout",
     "output_type": "stream",
     "text": [
      "/Users/emilien/Dropbox/Python pour les SHS/Formations/2021-11 URFIST Toulouse/Module 3 - Pandas et statistiques 3h\n"
     ]
    }
   ],
   "source": [
    "cd ."
   ]
  },
  {
   "cell_type": "code",
   "execution_count": 38,
   "metadata": {},
   "outputs": [],
   "source": [
    "data = pd.read_excel(\"../Data/anr-dos-depuis-2010-projets-finances-20211022-partenaires.xlsx\")"
   ]
  },
  {
   "cell_type": "markdown",
   "metadata": {},
   "source": [
    "Bibliothèque manquante"
   ]
  },
  {
   "cell_type": "code",
   "execution_count": 37,
   "metadata": {},
   "outputs": [
    {
     "name": "stdout",
     "output_type": "stream",
     "text": [
      "Requirement already satisfied: openpyxl in /Users/emilien/anaconda3/envs/p37/lib/python3.7/site-packages (3.0.7)\n",
      "Requirement already satisfied: et-xmlfile in /Users/emilien/anaconda3/envs/p37/lib/python3.7/site-packages (from openpyxl) (1.0.1)\n",
      "Note: you may need to restart the kernel to use updated packages.\n"
     ]
    }
   ],
   "source": [
    "pip install openpyxl"
   ]
  },
  {
   "cell_type": "markdown",
   "metadata": {},
   "source": [
    "Taille du tableau"
   ]
  },
  {
   "cell_type": "code",
   "execution_count": 42,
   "metadata": {},
   "outputs": [
    {
     "data": {
      "text/plain": [
       "(48330, 12)"
      ]
     },
     "execution_count": 42,
     "metadata": {},
     "output_type": "execute_result"
    }
   ],
   "source": [
    "data.shape"
   ]
  },
  {
   "cell_type": "markdown",
   "metadata": {},
   "source": [
    "Changer le nom des colonnes"
   ]
  },
  {
   "cell_type": "code",
   "execution_count": 48,
   "metadata": {},
   "outputs": [
    {
     "data": {
      "text/plain": [
       "Index(['Projet.Code_Decision_ANR', 'Projet.Acronyme',\n",
       "       'Projet.Partenaire.Code_Decision_ANR',\n",
       "       'Projet.Partenaire.Est_coordinateur', 'Projet.Partenaire.Nom_organisme',\n",
       "       'Projet.Partenaire.Categorie_organisme', 'Projet.Partenaire.Code_RNSR',\n",
       "       'Projet.Partenaire.Responsable_scientifique.Nom',\n",
       "       'Projet.Partenaire.Responsable_scientifique.Prenom',\n",
       "       'Projet.Partenaire.Adresse.Ville', 'Projet.Partenaire.Adresse.Region',\n",
       "       'Projet.Partenaire.Adresse.Pays'],\n",
       "      dtype='object')"
      ]
     },
     "execution_count": 48,
     "metadata": {},
     "output_type": "execute_result"
    }
   ],
   "source": [
    "data.columns"
   ]
  },
  {
   "cell_type": "code",
   "execution_count": 49,
   "metadata": {},
   "outputs": [],
   "source": [
    "data.columns = ['Code', 'Acronyme','Decision','Coordinateur', 'Organisme',\n",
    "                'CategorieOrg', 'Code_RNSR','RespoNom','RespoPrenom','Ville', 'Region','Pays']"
   ]
  },
  {
   "cell_type": "markdown",
   "metadata": {},
   "source": [
    "Mettre une colonne en index"
   ]
  },
  {
   "cell_type": "code",
   "execution_count": 56,
   "metadata": {},
   "outputs": [],
   "source": [
    "data = data.set_index(\"Code\")"
   ]
  },
  {
   "cell_type": "markdown",
   "metadata": {},
   "source": [
    "Explorer les données"
   ]
  },
  {
   "cell_type": "markdown",
   "metadata": {},
   "source": [
    "Tous les éléments présents dans la colonne"
   ]
  },
  {
   "cell_type": "code",
   "execution_count": 73,
   "metadata": {},
   "outputs": [
    {
     "data": {
      "text/plain": [
       "array([nan, 'AVIGNON', 'STRASBOURG', ..., 'Torcé', 'Monistrol-sur-Loire',\n",
       "       'Landévant'], dtype=object)"
      ]
     },
     "execution_count": 73,
     "metadata": {},
     "output_type": "execute_result"
    }
   ],
   "source": [
    "data[\"Ville\"].unique()"
   ]
  },
  {
   "cell_type": "markdown",
   "metadata": {},
   "source": [
    "Supprimer les lignes avec une valeur manquante"
   ]
  },
  {
   "cell_type": "code",
   "execution_count": 78,
   "metadata": {},
   "outputs": [
    {
     "data": {
      "text/plain": [
       "Code\n",
       "ANR-21-SUSC-0004           AVIGNON\n",
       "ANR-21-SUSC-0003        STRASBOURG\n",
       "ANR-21-SUSC-0002       MONTPELLIER\n",
       "ANR-21-SUSC-0002     Marsillargues\n",
       "ANR-21-SUSC-0001    Gif sur Yvette\n",
       "                         ...      \n",
       "ANR-10-ALIA-0002           Quimper\n",
       "ANR-10-ALIA-0001             Dijon\n",
       "ANR-10-ALIA-0001              Bron\n",
       "ANR-10-ALIA-0001             Dijon\n",
       "ANR-10-AALI-0001           Roubaix\n",
       "Name: Ville, Length: 43181, dtype: object"
      ]
     },
     "execution_count": 78,
     "metadata": {},
     "output_type": "execute_result"
    }
   ],
   "source": [
    "data[\"Ville\"].dropna()"
   ]
  },
  {
   "cell_type": "markdown",
   "metadata": {},
   "source": [
    "Remplacer les valeurs manquantes par un nom"
   ]
  },
  {
   "cell_type": "code",
   "execution_count": 82,
   "metadata": {},
   "outputs": [],
   "source": [
    "data[\"Ville-reco\"] = data[\"Ville\"].fillna(\"Données absente\")"
   ]
  },
  {
   "cell_type": "code",
   "execution_count": 86,
   "metadata": {},
   "outputs": [
    {
     "data": {
      "text/plain": [
       "array(['Pologne', 'France',\n",
       "       \"Royaume-Uni de Grande-Bretagne et d'Irlande du Nord\", 'Allemagne',\n",
       "       'Espagne', 'Finlande', 'Turquie', 'Italie', 'Belgique', 'Danemark',\n",
       "       nan, 'Viet Nam', \"États-Unis d'Amérique\", 'Japon', 'Norvège',\n",
       "       'Luxembourg', 'Roumanie', 'Israël', 'Guadeloupe', 'Suède',\n",
       "       'Suisse', 'Irlande', 'Estonie', 'Grèce', 'Afrique du Sud', 'Inde',\n",
       "       'Nouvelle-Calédonie', 'Égypte', 'Thaïlande', \"Côte d'Ivoire\",\n",
       "       'Martinique', 'Réunion', 'Polynésie française', 'Burkina Faso',\n",
       "       'Pays-Bas', 'Lettonie', 'Canada', 'Portugal', 'Brésil', 'Russie',\n",
       "       'Lituanie', 'Tchéquie', 'Autriche', 'Cambodge', 'Guyane française',\n",
       "       'Singapour', 'Équateur', 'Chili', 'Sénégal', 'Mexique',\n",
       "       'Madagascar', 'Ghana', 'Slovaquie', 'Slovénie', 'Argentine',\n",
       "       'Barbade', 'Trinité-et-Tobago', 'Saint-Kitts-et-Nevis', 'Hongrie',\n",
       "       'Chine', 'Chypre', 'Tunisie', 'Hong Kong', 'Taïwan', 'Australie',\n",
       "       'Liban', 'Ouzbékistan', 'Corée (République de)',\n",
       "       'République centrafricaine', 'Gabon', 'Koweït', 'Algérie', 'Mali',\n",
       "       'Togo', 'Pérou', 'Colombie', 'Nouvelle-Zélande', 'Kazakhstan',\n",
       "       'Serbie', 'Bulgarie', 'Malte', 'Maroc', 'Jordanie', 'Nicaragua',\n",
       "       'Cameroun', 'Kenya', 'Islande', 'Malaisie', 'Monaco', 'Albanie',\n",
       "       'Costa Rica', 'Uruguay', 'Émirats arabes unis', 'Ukraine',\n",
       "       'Paraguay', 'Géorgie', 'Éthiopie', 'Arabie saoudite', 'Indonésie',\n",
       "       'Philippines', 'Moldavie', 'Cook (Îles)', 'Seychelles', 'Laos',\n",
       "       'Tanzanie', 'Guinée', 'Nigéria', 'Haïti', 'Népal', 'Sierra Leone',\n",
       "       'Yémen', 'Gambie', 'Guatemala', 'Niger', 'Bénin', 'Norfolk (Île)',\n",
       "       'Guam', 'Bolivie', 'Mozambique', 'Mayotte', 'Zimbabwe', 'Vanuatu',\n",
       "       'Congo (République démocratique du)'], dtype=object)"
      ]
     },
     "execution_count": 86,
     "metadata": {},
     "output_type": "execute_result"
    }
   ],
   "source": [
    "data[\"Pays\"].unique()"
   ]
  },
  {
   "cell_type": "markdown",
   "metadata": {},
   "source": [
    "Compter le nombre d'élément présent dans une colonne"
   ]
  },
  {
   "cell_type": "code",
   "execution_count": 87,
   "metadata": {},
   "outputs": [
    {
     "data": {
      "text/plain": [
       "France                                                 39925\n",
       "Allemagne                                                944\n",
       "Royaume-Uni de Grande-Bretagne et d'Irlande du Nord      291\n",
       "Espagne                                                  289\n",
       "Italie                                                   275\n",
       "                                                       ...  \n",
       "Kazakhstan                                                 1\n",
       "Cook (Îles)                                                1\n",
       "Guinée                                                     1\n",
       "Ouzbékistan                                                1\n",
       "Gambie                                                     1\n",
       "Name: Pays, Length: 122, dtype: int64"
      ]
     },
     "execution_count": 87,
     "metadata": {},
     "output_type": "execute_result"
    }
   ],
   "source": [
    "data[\"Pays\"].value_counts()"
   ]
  },
  {
   "cell_type": "code",
   "execution_count": 88,
   "metadata": {},
   "outputs": [
    {
     "data": {
      "text/plain": [
       "France                                                 82.609145\n",
       "Allemagne                                               1.953238\n",
       "Royaume-Uni de Grande-Bretagne et d'Irlande du Nord     0.602110\n",
       "Espagne                                                 0.597972\n",
       "Italie                                                  0.569005\n",
       "                                                         ...    \n",
       "Kazakhstan                                              0.002069\n",
       "Cook (Îles)                                             0.002069\n",
       "Guinée                                                  0.002069\n",
       "Ouzbékistan                                             0.002069\n",
       "Gambie                                                  0.002069\n",
       "Name: Pays, Length: 122, dtype: float64"
      ]
     },
     "execution_count": 88,
     "metadata": {},
     "output_type": "execute_result"
    }
   ],
   "source": [
    "data[\"Pays\"].value_counts()/len(data)*100"
   ]
  },
  {
   "cell_type": "markdown",
   "metadata": {},
   "source": [
    "Les tableaux pandas permettent de faire des conditions pour sélectionner des lignes"
   ]
  },
  {
   "cell_type": "code",
   "execution_count": 96,
   "metadata": {},
   "outputs": [],
   "source": [
    "data_fr = data[data[\"Pays\"]==\"France\"]"
   ]
  },
  {
   "cell_type": "markdown",
   "metadata": {},
   "source": [
    "Vérifier si un mot est contenu dans une case textuelle"
   ]
  },
  {
   "cell_type": "code",
   "execution_count": 99,
   "metadata": {},
   "outputs": [
    {
     "data": {
      "text/plain": [
       "Code\n",
       "ANR-21-SUSC-0004    False\n",
       "ANR-21-SUSC-0004     True\n",
       "ANR-21-SUSC-0004    False\n",
       "ANR-21-SUSC-0004    False\n",
       "ANR-21-SUSC-0004    False\n",
       "                    ...  \n",
       "ANR-10-AALI-0001     True\n",
       "ANR-10-AALI-0001     True\n",
       "ANR-10-AALI-0001     True\n",
       "ANR-10-AALI-0001     True\n",
       "ANR-10-AALI-0001     True\n",
       "Name: Pays, Length: 48330, dtype: object"
      ]
     },
     "execution_count": 99,
     "metadata": {},
     "output_type": "execute_result"
    }
   ],
   "source": [
    "data[\"Pays\"].str.contains(\"France\")"
   ]
  },
  {
   "cell_type": "code",
   "execution_count": 103,
   "metadata": {},
   "outputs": [
    {
     "data": {
      "text/plain": [
       "Code\n",
       "ANR-21-SUSC-0004           AVIGNON\n",
       "ANR-21-SUSC-0003        STRASBOURG\n",
       "ANR-21-SUSC-0002       MONTPELLIER\n",
       "ANR-21-SUSC-0002     Marsillargues\n",
       "ANR-21-SUSC-0001    Gif sur Yvette\n",
       "                         ...      \n",
       "ANR-10-AALI-0001               NaN\n",
       "ANR-10-AALI-0001               NaN\n",
       "ANR-10-AALI-0001               NaN\n",
       "ANR-10-AALI-0001               NaN\n",
       "ANR-10-AALI-0001           Roubaix\n",
       "Name: Ville, Length: 39925, dtype: object"
      ]
     },
     "execution_count": 103,
     "metadata": {},
     "output_type": "execute_result"
    }
   ],
   "source": [
    "filtre = data[\"Pays\"].str.contains(\"France\").fillna(False)\n",
    "data[filtre][\"Ville\"]"
   ]
  },
  {
   "cell_type": "markdown",
   "metadata": {},
   "source": [
    "### Charger un nouveau jeu de données"
   ]
  },
  {
   "cell_type": "code",
   "execution_count": 107,
   "metadata": {},
   "outputs": [],
   "source": [
    "projets = pd.read_excel(\"../Data/anr-dos-depuis-2010-projets-finances-20211022-projets.xlsx\")\n",
    "projets.columns = ['Code', 'AAP', 'Acronyme',\n",
    "       'Titrefr', 'Titreen',\n",
    "       'Resumefr', 'Resumeen', 'AcroProg',\n",
    "       'Montant']"
   ]
  },
  {
   "cell_type": "markdown",
   "metadata": {},
   "source": [
    "Objectif : analyser les montants des projets"
   ]
  },
  {
   "cell_type": "code",
   "execution_count": 116,
   "metadata": {},
   "outputs": [
    {
     "data": {
      "text/plain": [
       "False    15865\n",
       "Name: Montant, dtype: int64"
      ]
     },
     "execution_count": 116,
     "metadata": {},
     "output_type": "execute_result"
    }
   ],
   "source": [
    "pd.isnull(projets[\"Montant\"]).value_counts()"
   ]
  },
  {
   "cell_type": "markdown",
   "metadata": {},
   "source": [
    "Il n'y a pas de valeurs nulles"
   ]
  },
  {
   "cell_type": "code",
   "execution_count": 118,
   "metadata": {},
   "outputs": [
    {
     "data": {
      "text/plain": [
       "390163.59147622436"
      ]
     },
     "execution_count": 118,
     "metadata": {},
     "output_type": "execute_result"
    }
   ],
   "source": [
    "projets[\"Montant\"].mean()"
   ]
  },
  {
   "cell_type": "code",
   "execution_count": 119,
   "metadata": {},
   "outputs": [
    {
     "data": {
      "text/plain": [
       "350000.0"
      ]
     },
     "execution_count": 119,
     "metadata": {},
     "output_type": "execute_result"
    }
   ],
   "source": [
    "projets[\"Montant\"].median()"
   ]
  },
  {
   "cell_type": "code",
   "execution_count": 120,
   "metadata": {},
   "outputs": [
    {
     "data": {
      "text/plain": [
       "227363.55708034773"
      ]
     },
     "execution_count": 120,
     "metadata": {},
     "output_type": "execute_result"
    }
   ],
   "source": [
    "projets[\"Montant\"].std()"
   ]
  },
  {
   "cell_type": "code",
   "execution_count": 121,
   "metadata": {},
   "outputs": [
    {
     "data": {
      "text/plain": [
       "count    1.586500e+04\n",
       "mean     3.901636e+05\n",
       "std      2.273636e+05\n",
       "min      1.673000e+01\n",
       "25%      2.371800e+05\n",
       "50%      3.500000e+05\n",
       "75%      5.019140e+05\n",
       "max      2.700000e+06\n",
       "Name: Montant, dtype: float64"
      ]
     },
     "execution_count": 121,
     "metadata": {},
     "output_type": "execute_result"
    }
   ],
   "source": [
    "projets[\"Montant\"].describe()"
   ]
  },
  {
   "cell_type": "markdown",
   "metadata": {},
   "source": [
    "Visualisation exploratoire"
   ]
  },
  {
   "cell_type": "code",
   "execution_count": 127,
   "metadata": {},
   "outputs": [
    {
     "data": {
      "text/plain": [
       "<AxesSubplot:ylabel='Frequency'>"
      ]
     },
     "execution_count": 127,
     "metadata": {},
     "output_type": "execute_result"
    },
    {
     "data": {
      "image/png": "[encoded data removed]",
      "text/plain": [
       "<Figure size 720x360 with 1 Axes>"
      ]
     },
     "metadata": {
      "needs_background": "light"
     },
     "output_type": "display_data"
    }
   ],
   "source": [
    "projets[\"Montant\"].plot(kind=\"hist\",\n",
    "                        figsize=(10,5),\n",
    "                        bins=100,\n",
    "                        color=\"orange\")"
   ]
  },
  {
   "cell_type": "code",
   "execution_count": 129,
   "metadata": {},
   "outputs": [
    {
     "data": {
      "text/plain": [
       "False    15586\n",
       "True       279\n",
       "Name: Montant, dtype: int64"
      ]
     },
     "execution_count": 129,
     "metadata": {},
     "output_type": "execute_result"
    }
   ],
   "source": [
    "(projets[\"Montant\"]>1000000).value_counts()"
   ]
  },
  {
   "cell_type": "code",
   "execution_count": 130,
   "metadata": {},
   "outputs": [
    {
     "data": {
      "text/html": [
       "<div>\n",
       "<style scoped>\n",
       "    .dataframe tbody tr th:only-of-type {\n",
       "        vertical-align: middle;\n",
       "    }\n",
       "\n",
       "    .dataframe tbody tr th {\n",
       "        vertical-align: top;\n",
       "    }\n",
       "\n",
       "    .dataframe thead th {\n",
       "        text-align: right;\n",
       "    }\n",
       "</style>\n",
       "<table border=\"1\" class=\"dataframe\">\n",
       "  <thead>\n",
       "    <tr style=\"text-align: right;\">\n",
       "      <th></th>\n",
       "      <th>Code</th>\n",
       "      <th>AAP</th>\n",
       "      <th>Acronyme</th>\n",
       "      <th>Titrefr</th>\n",
       "      <th>Titreen</th>\n",
       "      <th>Resumefr</th>\n",
       "      <th>Resumeen</th>\n",
       "      <th>AcroProg</th>\n",
       "      <th>Montant</th>\n",
       "    </tr>\n",
       "  </thead>\n",
       "  <tbody>\n",
       "    <tr>\n",
       "      <th>7</th>\n",
       "      <td>ANR-21-SOIL-0002</td>\n",
       "      <td>2021</td>\n",
       "      <td>ABRESO</td>\n",
       "      <td>Abandonment and rebound: Societal views on lan...</td>\n",
       "      <td>Abandonment and rebound: Societal views on lan...</td>\n",
       "      <td>This project addresses soil and water sustaina...</td>\n",
       "      <td>NaN</td>\n",
       "      <td>Belmont Forum</td>\n",
       "      <td>1.228931e+06</td>\n",
       "    </tr>\n",
       "    <tr>\n",
       "      <th>8</th>\n",
       "      <td>ANR-21-SOIL-0001</td>\n",
       "      <td>2021</td>\n",
       "      <td>BLUEGEM</td>\n",
       "      <td>Biosphere and Land Use Exchanges with Groundwa...</td>\n",
       "      <td>Biosphere and Land Use Exchanges with Groundwa...</td>\n",
       "      <td>The interactions between groundwater (GW) and ...</td>\n",
       "      <td>NaN</td>\n",
       "      <td>Belmont Forum</td>\n",
       "      <td>1.076814e+06</td>\n",
       "    </tr>\n",
       "    <tr>\n",
       "      <th>25</th>\n",
       "      <td>ANR-21-PRIM-0016</td>\n",
       "      <td>2021</td>\n",
       "      <td>SafeAgroBee</td>\n",
       "      <td>Préserver la résilience des agroécosystèmes fa...</td>\n",
       "      <td>Safeguarding agroecosystem's resilience under ...</td>\n",
       "      <td>L'objectif global de SafeAgroBee est de contri...</td>\n",
       "      <td>The overall objective of SafeAgroBee is to con...</td>\n",
       "      <td>PRIMA 2020</td>\n",
       "      <td>1.184086e+06</td>\n",
       "    </tr>\n",
       "    <tr>\n",
       "      <th>28</th>\n",
       "      <td>ANR-21-PRIM-0013</td>\n",
       "      <td>2021</td>\n",
       "      <td>INTEL-IRRIS</td>\n",
       "      <td>Système Intelligent d'Irrigation à Bas-Coût po...</td>\n",
       "      <td>Intelligent Irrigation System for Low-cost Aut...</td>\n",
       "      <td>NaN</td>\n",
       "      <td>The project will provide the smallholder farme...</td>\n",
       "      <td>PRIMA 2020</td>\n",
       "      <td>1.051420e+06</td>\n",
       "    </tr>\n",
       "    <tr>\n",
       "      <th>30</th>\n",
       "      <td>ANR-21-PRIM-0011</td>\n",
       "      <td>2021</td>\n",
       "      <td>DROMAMED</td>\n",
       "      <td>Capitalisation du germplasme de maïs de la Méd...</td>\n",
       "      <td>Capitalization of Mediterranean maize germplas...</td>\n",
       "      <td>La sécheresse est le principal problème de l'a...</td>\n",
       "      <td>Drought is the main problem of agriculture wor...</td>\n",
       "      <td>PRIMA 2020</td>\n",
       "      <td>1.464981e+06</td>\n",
       "    </tr>\n",
       "    <tr>\n",
       "      <th>...</th>\n",
       "      <td>...</td>\n",
       "      <td>...</td>\n",
       "      <td>...</td>\n",
       "      <td>...</td>\n",
       "      <td>...</td>\n",
       "      <td>...</td>\n",
       "      <td>...</td>\n",
       "      <td>...</td>\n",
       "      <td>...</td>\n",
       "    </tr>\n",
       "    <tr>\n",
       "      <th>15841</th>\n",
       "      <td>ANR-10-BIOT-0002</td>\n",
       "      <td>2010</td>\n",
       "      <td>SAFE-BETA</td>\n",
       "      <td>Développement préclinique d'anticorps d'imager...</td>\n",
       "      <td>Preclinical development of molecular imaging a...</td>\n",
       "      <td>Le diabète résulte d'un déclin de la masse de ...</td>\n",
       "      <td>Diabetes results from an absolute or relative ...</td>\n",
       "      <td>BIOTECS</td>\n",
       "      <td>1.226891e+06</td>\n",
       "    </tr>\n",
       "    <tr>\n",
       "      <th>15844</th>\n",
       "      <td>ANR-10-BIOE-0007</td>\n",
       "      <td>2010</td>\n",
       "      <td>DIVA</td>\n",
       "      <td>Caractérisation des DIgestats et de leurs fili...</td>\n",
       "      <td>Characterization of DIgestate and evaluation o...</td>\n",
       "      <td>Dans un contexte environnemental où la pressio...</td>\n",
       "      <td>In an environmental context where the pressure...</td>\n",
       "      <td>BIOE</td>\n",
       "      <td>1.226387e+06</td>\n",
       "    </tr>\n",
       "    <tr>\n",
       "      <th>15847</th>\n",
       "      <td>ANR-10-BIOE-0004</td>\n",
       "      <td>2010</td>\n",
       "      <td>Algo-H2</td>\n",
       "      <td>Optimisations génétiques, métaboliques, et pro...</td>\n",
       "      <td>Genetic, metabolic and process optimizations o...</td>\n",
       "      <td>L’objectif du projet est d’étudier la producti...</td>\n",
       "      <td>The aim of the project is to study the hydroge...</td>\n",
       "      <td>BIOE</td>\n",
       "      <td>1.240363e+06</td>\n",
       "    </tr>\n",
       "    <tr>\n",
       "      <th>15850</th>\n",
       "      <td>ANR-10-BIOE-0001</td>\n",
       "      <td>2010</td>\n",
       "      <td>GAMECO</td>\n",
       "      <td>Gazéification AMEliorée pour des applications ...</td>\n",
       "      <td>Improved Gasification for Heat and Power Appli...</td>\n",
       "      <td>La gazéification de biomasse en lit fluidisé b...</td>\n",
       "      <td>Air-blown fluidised bed biomass gasification i...</td>\n",
       "      <td>BIOE</td>\n",
       "      <td>1.015184e+06</td>\n",
       "    </tr>\n",
       "    <tr>\n",
       "      <th>15864</th>\n",
       "      <td>ANR-10-AALI-0001</td>\n",
       "      <td>2010</td>\n",
       "      <td>ENTRANCE</td>\n",
       "      <td>NaN</td>\n",
       "      <td>NaN</td>\n",
       "      <td>NaN</td>\n",
       "      <td>NaN</td>\n",
       "      <td>AALI</td>\n",
       "      <td>1.172730e+06</td>\n",
       "    </tr>\n",
       "  </tbody>\n",
       "</table>\n",
       "<p>279 rows × 9 columns</p>\n",
       "</div>"
      ],
      "text/plain": [
       "                   Code   AAP     Acronyme  \\\n",
       "7      ANR-21-SOIL-0002  2021       ABRESO   \n",
       "8      ANR-21-SOIL-0001  2021      BLUEGEM   \n",
       "25     ANR-21-PRIM-0016  2021  SafeAgroBee   \n",
       "28     ANR-21-PRIM-0013  2021  INTEL-IRRIS   \n",
       "30     ANR-21-PRIM-0011  2021     DROMAMED   \n",
       "...                 ...   ...          ...   \n",
       "15841  ANR-10-BIOT-0002  2010    SAFE-BETA   \n",
       "15844  ANR-10-BIOE-0007  2010         DIVA   \n",
       "15847  ANR-10-BIOE-0004  2010      Algo-H2   \n",
       "15850  ANR-10-BIOE-0001  2010       GAMECO   \n",
       "15864  ANR-10-AALI-0001  2010     ENTRANCE   \n",
       "\n",
       "                                                 Titrefr  \\\n",
       "7      Abandonment and rebound: Societal views on lan...   \n",
       "8      Biosphere and Land Use Exchanges with Groundwa...   \n",
       "25     Préserver la résilience des agroécosystèmes fa...   \n",
       "28     Système Intelligent d'Irrigation à Bas-Coût po...   \n",
       "30     Capitalisation du germplasme de maïs de la Méd...   \n",
       "...                                                  ...   \n",
       "15841  Développement préclinique d'anticorps d'imager...   \n",
       "15844  Caractérisation des DIgestats et de leurs fili...   \n",
       "15847  Optimisations génétiques, métaboliques, et pro...   \n",
       "15850  Gazéification AMEliorée pour des applications ...   \n",
       "15864                                                NaN   \n",
       "\n",
       "                                                 Titreen  \\\n",
       "7      Abandonment and rebound: Societal views on lan...   \n",
       "8      Biosphere and Land Use Exchanges with Groundwa...   \n",
       "25     Safeguarding agroecosystem's resilience under ...   \n",
       "28     Intelligent Irrigation System for Low-cost Aut...   \n",
       "30     Capitalization of Mediterranean maize germplas...   \n",
       "...                                                  ...   \n",
       "15841  Preclinical development of molecular imaging a...   \n",
       "15844  Characterization of DIgestate and evaluation o...   \n",
       "15847  Genetic, metabolic and process optimizations o...   \n",
       "15850  Improved Gasification for Heat and Power Appli...   \n",
       "15864                                                NaN   \n",
       "\n",
       "                                                Resumefr  \\\n",
       "7      This project addresses soil and water sustaina...   \n",
       "8      The interactions between groundwater (GW) and ...   \n",
       "25     L'objectif global de SafeAgroBee est de contri...   \n",
       "28                                                   NaN   \n",
       "30     La sécheresse est le principal problème de l'a...   \n",
       "...                                                  ...   \n",
       "15841  Le diabète résulte d'un déclin de la masse de ...   \n",
       "15844  Dans un contexte environnemental où la pressio...   \n",
       "15847  L’objectif du projet est d’étudier la producti...   \n",
       "15850  La gazéification de biomasse en lit fluidisé b...   \n",
       "15864                                                NaN   \n",
       "\n",
       "                                                Resumeen       AcroProg  \\\n",
       "7                                                    NaN  Belmont Forum   \n",
       "8                                                    NaN  Belmont Forum   \n",
       "25     The overall objective of SafeAgroBee is to con...     PRIMA 2020   \n",
       "28     The project will provide the smallholder farme...     PRIMA 2020   \n",
       "30     Drought is the main problem of agriculture wor...     PRIMA 2020   \n",
       "...                                                  ...            ...   \n",
       "15841  Diabetes results from an absolute or relative ...        BIOTECS   \n",
       "15844  In an environmental context where the pressure...           BIOE   \n",
       "15847  The aim of the project is to study the hydroge...           BIOE   \n",
       "15850  Air-blown fluidised bed biomass gasification i...           BIOE   \n",
       "15864                                                NaN           AALI   \n",
       "\n",
       "            Montant  \n",
       "7      1.228931e+06  \n",
       "8      1.076814e+06  \n",
       "25     1.184086e+06  \n",
       "28     1.051420e+06  \n",
       "30     1.464981e+06  \n",
       "...             ...  \n",
       "15841  1.226891e+06  \n",
       "15844  1.226387e+06  \n",
       "15847  1.240363e+06  \n",
       "15850  1.015184e+06  \n",
       "15864  1.172730e+06  \n",
       "\n",
       "[279 rows x 9 columns]"
      ]
     },
     "execution_count": 130,
     "metadata": {},
     "output_type": "execute_result"
    }
   ],
   "source": [
    "filtre = projets[\"Montant\"]>1000000\n",
    "projets[filtre]"
   ]
  },
  {
   "cell_type": "markdown",
   "metadata": {},
   "source": [
    "### Quelques éléments sur matplotlib"
   ]
  },
  {
   "cell_type": "code",
   "execution_count": 132,
   "metadata": {},
   "outputs": [],
   "source": [
    "import matplotlib.pyplot as plt"
   ]
  },
  {
   "cell_type": "code",
   "execution_count": 149,
   "metadata": {},
   "outputs": [
    {
     "data": {
      "image/png": "[encoded data removed]",
      "text/plain": [
       "<Figure size 576x216 with 1 Axes>"
      ]
     },
     "metadata": {
      "needs_background": "light"
     },
     "output_type": "display_data"
    }
   ],
   "source": [
    "# Définir la figure\n",
    "fig,graph = plt.subplots(1,1)\n",
    "\n",
    "# Tracer la figure\n",
    "projets[\"Montant\"].plot(kind=\"hist\",\n",
    "                        figsize=(8,3),\n",
    "                        bins=100,\n",
    "                        color=\"orange\",\n",
    "                        ax=graph)\n",
    "\n",
    "# Paramétrage de la figure\n",
    "plt.title(\"Histogramme des montants des projets ANR 2010-2021\")\n",
    "plt.xlabel(\"Montant des projets (bins=100)\")\n",
    "plt.ylabel(\"Nombre de projets\")\n",
    "\n",
    "#Sauvegarder dans un fichier\n",
    "plt.tight_layout()\n",
    "plt.savefig(\"Histogramme_montant.png\",dpi=300,facecolor=\"white\")"
   ]
  },
  {
   "cell_type": "code",
   "execution_count": 158,
   "metadata": {},
   "outputs": [
    {
     "data": {
      "image/png": "[encoded data removed]",
      "text/plain": [
       "<Figure size 576x432 with 2 Axes>"
      ]
     },
     "metadata": {
      "needs_background": "light"
     },
     "output_type": "display_data"
    }
   ],
   "source": [
    "# Définir la figure\n",
    "fig,graph = plt.subplots(2,1)\n",
    "\n",
    "# Tracer la figure\n",
    "projets[\"Montant\"].plot(kind=\"hist\",\n",
    "                        figsize=(8,6),\n",
    "                        bins=100,\n",
    "                        color=\"orange\",\n",
    "                        ax=graph[0])\n",
    "\n",
    "graph[0].set_title(\"Histogramme des montants des projets ANR 2010-2021\")\n",
    "graph[0].set_xlabel(\"Montant des projets (bins=100)\")\n",
    "graph[0].set_ylabel(\"Nombre de projets\")\n",
    "\n",
    "# Tracer la figure\n",
    "projets[\"Montant\"].plot(kind=\"hist\",\n",
    "                        bins=100,\n",
    "                        color=\"red\",\n",
    "                        ax=graph[1])\n",
    "\n",
    "# Paramétrage de la figure\n",
    "graph[1].set_title(\"Histogramme des montants des projets ANR 2010-2021\")\n",
    "graph[1].set_xlabel(\"Montant des projets (bins=100)\")\n",
    "graph[1].set_ylabel(\"Nombre de projets\")\n",
    "\n",
    "#Sauvegarder dans un fichier\n",
    "plt.tight_layout()\n",
    "plt.savefig(\"Histogramme_montant.png\",dpi=300,facecolor=\"white\")"
   ]
  },
  {
   "cell_type": "markdown",
   "metadata": {},
   "source": [
    "## Faire du recodage de colonne"
   ]
  },
  {
   "cell_type": "markdown",
   "metadata": {},
   "source": [
    "Objectif : recoder ma colonne Montant en trois catégories \n",
    "- moins de 200000\n",
    "- entre 200000 et 500000\n",
    "- plus de 500000\n",
    "\n",
    "\n",
    "Deux temps :\n",
    "- définir une fonction qui recode une entrée\n",
    "- l'appliquer à tout le tableau avec la méthode apply"
   ]
  },
  {
   "cell_type": "code",
   "execution_count": 166,
   "metadata": {},
   "outputs": [],
   "source": [
    "def recodage_montant(m):\n",
    "    if m < 200000:\n",
    "        return \"Petit projet\"\n",
    "    if m < 500000:\n",
    "        return \"Projet moyen\"\n",
    "    if m < 1000000:\n",
    "        return \"Gros projet\"\n",
    "    return \"Très gros projet\""
   ]
  },
  {
   "cell_type": "markdown",
   "metadata": {},
   "source": [
    "Autre façon d'écrire la fonction"
   ]
  },
  {
   "cell_type": "code",
   "execution_count": null,
   "metadata": {},
   "outputs": [],
   "source": [
    "def recodage_montant(m):\n",
    "    if m < 200000:\n",
    "        return \"Petit projet\"\n",
    "    elif m < 500000:\n",
    "        return \"Projet moyen\"\n",
    "    else:\n",
    "        return \"Gros projet\""
   ]
  },
  {
   "cell_type": "markdown",
   "metadata": {},
   "source": [
    "L'appliquer à toutes les cellules d'un tableau"
   ]
  },
  {
   "cell_type": "code",
   "execution_count": 167,
   "metadata": {},
   "outputs": [],
   "source": [
    "projets[\"Montant_recodes\"] = projets[\"Montant\"].apply(recodage_montant)"
   ]
  },
  {
   "cell_type": "code",
   "execution_count": 168,
   "metadata": {},
   "outputs": [
    {
     "data": {
      "text/plain": [
       "Projet moyen        9024\n",
       "Gros projet         3782\n",
       "Petit projet        2777\n",
       "Très gros projet     282\n",
       "Name: Montant_recodes, dtype: int64"
      ]
     },
     "execution_count": 168,
     "metadata": {},
     "output_type": "execute_result"
    }
   ],
   "source": [
    "projets[\"Montant_recodes\"].value_counts()"
   ]
  },
  {
   "cell_type": "markdown",
   "metadata": {},
   "source": [
    "Visualisation"
   ]
  },
  {
   "cell_type": "code",
   "execution_count": 172,
   "metadata": {},
   "outputs": [
    {
     "data": {
      "text/plain": [
       "<AxesSubplot:>"
      ]
     },
     "execution_count": 172,
     "metadata": {},
     "output_type": "execute_result"
    },
    {
     "data": {
      "image/png": "[encoded data removed]",
      "text/plain": [
       "<Figure size 432x288 with 1 Axes>"
      ]
     },
     "metadata": {
      "needs_background": "light"
     },
     "output_type": "display_data"
    }
   ],
   "source": [
    "projets[\"Montant_recodes\"].value_counts().plot(kind=\"barh\")"
   ]
  },
  {
   "cell_type": "markdown",
   "metadata": {},
   "source": [
    "### Tri à plat"
   ]
  },
  {
   "cell_type": "code",
   "execution_count": 173,
   "metadata": {},
   "outputs": [
    {
     "name": "stdout",
     "output_type": "stream",
     "text": [
      "Requirement already satisfied: pyshs in /Users/emilien/anaconda3/envs/p37/lib/python3.7/site-packages (0.1.12)\n",
      "Note: you may need to restart the kernel to use updated packages.\n"
     ]
    }
   ],
   "source": [
    "pip install pyshs"
   ]
  },
  {
   "cell_type": "code",
   "execution_count": 174,
   "metadata": {},
   "outputs": [],
   "source": [
    "import pyshs"
   ]
  },
  {
   "cell_type": "code",
   "execution_count": 175,
   "metadata": {},
   "outputs": [
    {
     "data": {
      "text/html": [
       "<div>\n",
       "<style scoped>\n",
       "    .dataframe tbody tr th:only-of-type {\n",
       "        vertical-align: middle;\n",
       "    }\n",
       "\n",
       "    .dataframe tbody tr th {\n",
       "        vertical-align: top;\n",
       "    }\n",
       "\n",
       "    .dataframe thead th {\n",
       "        text-align: right;\n",
       "    }\n",
       "</style>\n",
       "<table border=\"1\" class=\"dataframe\">\n",
       "  <thead>\n",
       "    <tr style=\"text-align: right;\">\n",
       "      <th></th>\n",
       "      <th>Effectif</th>\n",
       "      <th>Pourcentage (%)</th>\n",
       "    </tr>\n",
       "  </thead>\n",
       "  <tbody>\n",
       "    <tr>\n",
       "      <th>Gros projet</th>\n",
       "      <td>3782.0</td>\n",
       "      <td>23.8</td>\n",
       "    </tr>\n",
       "    <tr>\n",
       "      <th>Petit projet</th>\n",
       "      <td>2777.0</td>\n",
       "      <td>17.5</td>\n",
       "    </tr>\n",
       "    <tr>\n",
       "      <th>Projet moyen</th>\n",
       "      <td>9024.0</td>\n",
       "      <td>56.9</td>\n",
       "    </tr>\n",
       "    <tr>\n",
       "      <th>Très gros projet</th>\n",
       "      <td>282.0</td>\n",
       "      <td>1.8</td>\n",
       "    </tr>\n",
       "    <tr>\n",
       "      <th>Total</th>\n",
       "      <td>15865.0</td>\n",
       "      <td>100.0</td>\n",
       "    </tr>\n",
       "  </tbody>\n",
       "</table>\n",
       "</div>"
      ],
      "text/plain": [
       "                  Effectif  Pourcentage (%)\n",
       "Gros projet         3782.0             23.8\n",
       "Petit projet        2777.0             17.5\n",
       "Projet moyen        9024.0             56.9\n",
       "Très gros projet     282.0              1.8\n",
       "Total              15865.0            100.0"
      ]
     },
     "execution_count": 175,
     "metadata": {},
     "output_type": "execute_result"
    }
   ],
   "source": [
    "pyshs.tri_a_plat(projets,\"Montant_recodes\")"
   ]
  },
  {
   "cell_type": "markdown",
   "metadata": {},
   "source": [
    "Nombre de mots dans l'abstract"
   ]
  },
  {
   "cell_type": "code",
   "execution_count": 181,
   "metadata": {},
   "outputs": [
    {
     "data": {
      "text/plain": [
       "<AxesSubplot:ylabel='Frequency'>"
      ]
     },
     "execution_count": 181,
     "metadata": {},
     "output_type": "execute_result"
    },
    {
     "data": {
      "image/png": "[encoded data removed]",
      "text/plain": [
       "<Figure size 432x288 with 1 Axes>"
      ]
     },
     "metadata": {
      "needs_background": "light"
     },
     "output_type": "display_data"
    }
   ],
   "source": [
    "# Définir une fonction\n",
    "def compter_mots(texte):\n",
    "    return len(texte.split(\" \"))\n",
    "\n",
    "# L'appliquer\n",
    "projets[\"nb_mots_resume\"] = projets[\"Resumefr\"].fillna(\"\").apply(compter_mots)\n",
    "projets[\"nb_mots_resume\"].plot(kind=\"hist\",bins=100)"
   ]
  }
 ],
 "metadata": {
  "kernelspec": {
   "display_name": "Python 3",
   "language": "python",
   "name": "python3"
  },
  "language_info": {
   "codemirror_mode": {
    "name": "ipython",
    "version": 3
   },
   "file_extension": ".py",
   "mimetype": "text/x-python",
   "name": "python",
   "nbconvert_exporter": "python",
   "pygments_lexer": "ipython3",
   "version": "3.7.7"
  }
 },
 "nbformat": 4,
 "nbformat_minor": 4
}
