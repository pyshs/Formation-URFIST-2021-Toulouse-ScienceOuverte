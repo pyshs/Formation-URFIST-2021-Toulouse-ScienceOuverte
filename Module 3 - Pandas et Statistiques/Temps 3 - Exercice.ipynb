{
 "cells": [
  {
   "cell_type": "markdown",
   "metadata": {},
   "source": [
    "# Exercice\n",
    "\n",
    "A partir du corpus ANR\n",
    "\n",
    "- Créer une nouvelle variable sur le nombre de mots dans l'abstract\n",
    "- Regarder l'évolution du nombre de mots dans le résumé\n",
    "\n"
   ]
  }
 ],
 "metadata": {
  "kernelspec": {
   "display_name": "Python 3",
   "language": "python",
   "name": "python3"
  },
  "language_info": {
   "codemirror_mode": {
    "name": "ipython",
    "version": 3
   },
   "file_extension": ".py",
   "mimetype": "text/x-python",
   "name": "python",
   "nbconvert_exporter": "python",
   "pygments_lexer": "ipython3",
   "version": "3.7.7"
  }
 },
 "nbformat": 4,
 "nbformat_minor": 4
}
