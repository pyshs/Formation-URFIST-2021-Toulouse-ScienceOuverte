{
 "cells": [
  {
   "cell_type": "markdown",
   "metadata": {},
   "source": [
    "# Exercice d'application"
   ]
  },
  {
   "cell_type": "markdown",
   "metadata": {},
   "source": [
    "A partir des deux fichiers projets et partenaires\n",
    "\n",
    "- calculer le nombre de partenaires par projets\n",
    "- comprendre la manière d'utiliser la méthode join d'un DataFrame Pandas pour associer les données descriptives du projet au nombre de partenaires\n",
    "- calculez le montant moyen par partenaire par année\n",
    "- faites une visualisation adaptée\n",
    "\n",
    "(bonus) trouvez toutes les variations des noms de votre établissement, et filtez tous les projets associés"
   ]
  }
 ],
 "metadata": {
  "kernelspec": {
   "display_name": "Python 3",
   "language": "python",
   "name": "python3"
  },
  "language_info": {
   "codemirror_mode": {
    "name": "ipython",
    "version": 3
   },
   "file_extension": ".py",
   "mimetype": "text/x-python",
   "name": "python",
   "nbconvert_exporter": "python",
   "pygments_lexer": "ipython3",
   "version": "3.7.11"
  }
 },
 "nbformat": 4,
 "nbformat_minor": 4
}
